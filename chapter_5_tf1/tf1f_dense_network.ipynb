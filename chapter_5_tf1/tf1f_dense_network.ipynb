{
 "cells": [
  {
   "cell_type": "code",
   "execution_count": 1,
   "metadata": {},
   "outputs": [
    {
     "name": "stdout",
     "output_type": "stream",
     "text": [
      "Writing to /root/.config/pip/pip.conf\n",
      "Looking in indexes: https://mirrors.aliyun.com/pypi/simple/\n",
      "Requirement already up-to-date: pip in /usr/local/lib/python3.6/dist-packages (20.2.4)\n",
      "pip 20.2.4 from /usr/local/lib/python3.6/dist-packages/pip (python 3.6)\n",
      "Looking in indexes: https://mirrors.aliyun.com/pypi/simple/\n",
      "Requirement already satisfied: sklearn in /usr/local/lib/python3.6/dist-packages (0.0)\n",
      "Requirement already satisfied: pandas in /usr/local/lib/python3.6/dist-packages (1.1.3)\n",
      "Requirement already satisfied: scikit-learn in /usr/local/lib/python3.6/dist-packages (from sklearn) (0.23.2)\n",
      "Requirement already satisfied: python-dateutil>=2.7.3 in /usr/local/lib/python3.6/dist-packages (from pandas) (2.8.1)\n",
      "Requirement already satisfied: pytz>=2017.2 in /usr/local/lib/python3.6/dist-packages (from pandas) (2020.1)\n",
      "Requirement already satisfied: numpy>=1.15.4 in /usr/local/lib/python3.6/dist-packages (from pandas) (1.18.5)\n",
      "Requirement already satisfied: scipy>=0.19.1 in /usr/local/lib/python3.6/dist-packages (from scikit-learn->sklearn) (1.5.3)\n",
      "Requirement already satisfied: joblib>=0.11 in /usr/local/lib/python3.6/dist-packages (from scikit-learn->sklearn) (0.17.0)\n",
      "Requirement already satisfied: threadpoolctl>=2.0.0 in /usr/local/lib/python3.6/dist-packages (from scikit-learn->sklearn) (2.1.0)\n",
      "Requirement already satisfied: six>=1.5 in /usr/lib/python3/dist-packages (from python-dateutil>=2.7.3->pandas) (1.11.0)\n"
     ]
    }
   ],
   "source": [
    "!pip config set global.index-url https://mirrors.aliyun.com/pypi/simple/\n",
    "!python -m pip install -U pip\n",
    "!pip -V\n",
    "!pip install sklearn pandas"
   ]
  },
  {
   "cell_type": "code",
   "execution_count": 2,
   "metadata": {},
   "outputs": [],
   "source": [
    "import matplotlib as mpl\n",
    "import matplotlib.pyplot as plt\n",
    "%matplotlib inline\n",
    "import numpy as np\n",
    "import sklearn\n",
    "import pandas as pd\n",
    "import os\n",
    "import sys\n",
    "import time\n",
    "import tensorflow as tf\n",
    "\n",
    "from tensorflow import keras"
   ]
  },
  {
   "cell_type": "code",
   "execution_count": 3,
   "metadata": {},
   "outputs": [
    {
     "name": "stdout",
     "output_type": "stream",
     "text": [
      "1.15.4\n",
      "sys.version_info(major=3, minor=6, micro=9, releaselevel='final', serial=0)\n",
      "matplotlib 3.3.2\n",
      "numpy 1.18.5\n",
      "pandas 1.1.3\n",
      "sklearn 0.23.2\n",
      "tensorflow 1.15.4\n",
      "tensorflow.python.keras.api._v1.keras 2.2.4-tf\n"
     ]
    }
   ],
   "source": [
    "print(tf.__version__)\n",
    "print(sys.version_info)\n",
    "for module in mpl, np, pd, sklearn, tf, keras:\n",
    "    print(module.__name__, module.__version__)"
   ]
  },
  {
   "cell_type": "code",
   "execution_count": 4,
   "metadata": {},
   "outputs": [
    {
     "name": "stdout",
     "output_type": "stream",
     "text": [
      "(5000, 28, 28) (5000,)\n",
      "(55000, 28, 28) (55000,)\n",
      "(10000, 28, 28) (10000,)\n"
     ]
    }
   ],
   "source": [
    "fashion_mnist = keras.datasets.fashion_mnist\n",
    "(x_train_all, y_train_all), (x_test, y_test) = fashion_mnist.load_data()\n",
    "x_train_all = x_train_all / 255.0\n",
    "x_test = x_test / 255.0\n",
    "x_valid, x_train = x_train_all[:5000], x_train_all[5000:]\n",
    "y_valid, y_train = y_train_all[:5000], y_train_all[5000:]\n",
    "\n",
    "print(x_valid.shape, y_valid.shape)\n",
    "print(x_train.shape, y_train.shape)\n",
    "print(x_test.shape, y_test.shape)"
   ]
  },
  {
   "cell_type": "code",
   "execution_count": 5,
   "metadata": {},
   "outputs": [
    {
     "name": "stdout",
     "output_type": "stream",
     "text": [
      "1.0 0.0\n"
     ]
    }
   ],
   "source": [
    "print(np.max(x_train), np.min(x_train))"
   ]
  },
  {
   "cell_type": "code",
   "execution_count": 6,
   "metadata": {},
   "outputs": [],
   "source": [
    "# x = (x - u) / std\n",
    "\n",
    "from sklearn.preprocessing import StandardScaler\n",
    "\n",
    "scaler = StandardScaler()\n",
    "# x_train: [None, 28, 28] -> [None, 784]\n",
    "x_train_scaled = scaler.fit_transform(\n",
    "    x_train.astype(np.float32).reshape(-1, 1)).reshape(-1, 28 * 28)\n",
    "x_valid_scaled = scaler.transform(\n",
    "    x_valid.astype(np.float32).reshape(-1, 1)).reshape(-1, 28 * 28)\n",
    "x_test_scaled = scaler.transform(\n",
    "    x_test.astype(np.float32).reshape(-1, 1)).reshape(-1, 28 * 28)"
   ]
  },
  {
   "cell_type": "code",
   "execution_count": 7,
   "metadata": {},
   "outputs": [
    {
     "name": "stdout",
     "output_type": "stream",
     "text": [
      "2.0231433 -0.8105137\n"
     ]
    }
   ],
   "source": [
    "print(np.max(x_train_scaled), np.min(x_train_scaled))"
   ]
  },
  {
   "cell_type": "code",
   "execution_count": 8,
   "metadata": {},
   "outputs": [
    {
     "name": "stdout",
     "output_type": "stream",
     "text": [
      "WARNING:tensorflow:From <ipython-input-8-ad9e68d76492>:11: dense (from tensorflow.python.layers.core) is deprecated and will be removed in a future version.\n",
      "Instructions for updating:\n",
      "Use keras.layers.Dense instead.\n",
      "WARNING:tensorflow:From /usr/local/lib/python3.6/dist-packages/tensorflow_core/python/layers/core.py:187: Layer.apply (from tensorflow.python.keras.engine.base_layer) is deprecated and will be removed in a future version.\n",
      "Instructions for updating:\n",
      "Please use `layer.__call__` method instead.\n",
      "WARNING:tensorflow:From /usr/local/lib/python3.6/dist-packages/tensorflow_core/python/ops/losses/losses_impl.py:121: where (from tensorflow.python.ops.array_ops) is deprecated and will be removed in a future version.\n",
      "Instructions for updating:\n",
      "Use tf.where in 2.0, which has the same broadcast rule as np.where\n"
     ]
    }
   ],
   "source": [
    "hidden_units = [100, 100]\n",
    "class_num = 10\n",
    "\n",
    "x = tf.placeholder(tf.float32, [None, 28 * 28])\n",
    "y = tf.placeholder(tf.int64, [None])\n",
    "\n",
    "input_for_next_layer = x\n",
    "for hidden_unit in hidden_units:\n",
    "    input_for_next_layer = tf.layers.dense(input_for_next_layer,\n",
    "                                          hidden_unit,\n",
    "                                          activation=tf.nn.relu)\n",
    "logits = tf.layers.dense(input_for_next_layer, class_num)\n",
    "\n",
    "# last_hidden_output * W(logits) -> softmax -> prob\n",
    "# 1. logit -> softmax -> prob\n",
    "# 2. labels -> one_hot\n",
    "# 3. calculate cross entropy\n",
    "loss = tf.losses.sparse_softmax_cross_entropy(labels = y, logits = logits)\n",
    "\n",
    "# get accuracy.\n",
    "prediction = tf.argmax(logits, 1)\n",
    "correct_prediction = tf.equal(prediction, y)\n",
    "accuray = tf.reduce_mean(tf.cast(correct_prediction, tf.float64))\n",
    "\n",
    "train_op = tf.train.AdamOptimizer(1e-3).minimize(loss)"
   ]
  },
  {
   "cell_type": "code",
   "execution_count": 9,
   "metadata": {},
   "outputs": [
    {
     "name": "stdout",
     "output_type": "stream",
     "text": [
      "Tensor(\"Placeholder:0\", shape=(?, 784), dtype=float32)\n",
      "Tensor(\"dense_2/BiasAdd:0\", shape=(?, 10), dtype=float32)\n"
     ]
    }
   ],
   "source": [
    "print(x)\n",
    "print(logits)"
   ]
  },
  {
   "cell_type": "code",
   "execution_count": 13,
   "metadata": {},
   "outputs": [
    {
     "name": "stdout",
     "output_type": "stream",
     "text": [
      "[Train] epoch: 0, step: 2749, loss: 0.35181, accuray: 0.85\t[Valid] acc: 0.86\n",
      "[Train] epoch: 1, step: 2749, loss: 0.18478, accuray: 0.90\t[Valid] acc: 0.88\n",
      "[Train] epoch: 2, step: 2749, loss: 0.20871, accuray: 0.90\t[Valid] acc: 0.88\n",
      "[Train] epoch: 3, step: 2749, loss: 0.14662, accuray: 0.90\t[Valid] acc: 0.88\n",
      "[Train] epoch: 4, step: 2749, loss: 0.14507, accuray: 0.90\t[Valid] acc: 0.88\n",
      "[Train] epoch: 5, step: 2749, loss: 0.18183, accuray: 0.85\t[Valid] acc: 0.88\n",
      "[Train] epoch: 6, step: 2749, loss: 0.20438, accuray: 0.90\t[Valid] acc: 0.88\n",
      "[Train] epoch: 7, step: 2749, loss: 0.25567, accuray: 0.90\t[Valid] acc: 0.88\n",
      "[Train] epoch: 8, step: 2749, loss: 0.21819, accuray: 0.85\t[Valid] acc: 0.89\n",
      "[Train] epoch: 9, step: 2749, loss: 0.29850, accuray: 0.85\t[Valid] acc: 0.88\n"
     ]
    }
   ],
   "source": [
    "# session\n",
    "\n",
    "init = tf.global_variables_initializer()\n",
    "batch_size = 20\n",
    "epochs = 10\n",
    "train_steps_per_epoch = x_train.shape[0] // batch_size\n",
    "valid_steps_per_epoch = x_valid.shape[0] // batch_size\n",
    "\n",
    "def eval_with_sess(sess, x, y, accuray, images, labels, batch_size):\n",
    "    eval_steps = images.shape[0] // batch_size\n",
    "    eval_accuracies = []\n",
    "    for step in range(eval_steps):\n",
    "        batch_data = images[step * batch_size : (step+1) * batch_size]\n",
    "        batch_label = labels[step * batch_size : (step+1) * batch_size]\n",
    "        accuracy_val = sess.run(accuray, feed_dict = {\n",
    "            x:batch_data,\n",
    "            y:batch_label,\n",
    "        })\n",
    "        eval_accuracies.append(accuracy_val)\n",
    "    return np.mean(eval_accuracies)\n",
    "    \n",
    "with tf.Session() as sess:\n",
    "    sess.run(init)\n",
    "    for epoch in range(epochs):\n",
    "        for step in range(train_steps_per_epoch):\n",
    "            batch_data = x_train_scaled[step * batch_size: (step+1) * batch_size]\n",
    "            batch_label = y_train[step * batch_size: (step+1) * batch_size]\n",
    "            loss_val, accuray_val, _ = sess.run(\n",
    "                [loss, accuray, train_op], \n",
    "                feed_dict={\n",
    "                    x:batch_data,\n",
    "                    y:batch_label,\n",
    "                })\n",
    "            print('\\r[Train] epoch: %d, step: %d, loss: %3.5f, accuray: %2.2f' % (\n",
    "                epoch, step, loss_val, accuray_val), end='')\n",
    "        valid_accuracy = eval_with_sess(sess, x, y, accuray, x_valid_scaled, y_valid,\n",
    "                                       batch_size)\n",
    "        print('\\t[Valid] acc: %2.2f' % (valid_accuracy))"
   ]
  },
  {
   "cell_type": "code",
   "execution_count": null,
   "metadata": {},
   "outputs": [],
   "source": []
  }
 ],
 "metadata": {
  "kernelspec": {
   "display_name": "Python 3",
   "language": "python",
   "name": "python3"
  },
  "language_info": {
   "codemirror_mode": {
    "name": "ipython",
    "version": 3
   },
   "file_extension": ".py",
   "mimetype": "text/x-python",
   "name": "python",
   "nbconvert_exporter": "python",
   "pygments_lexer": "ipython3",
   "version": "3.6.9"
  }
 },
 "nbformat": 4,
 "nbformat_minor": 2
}
