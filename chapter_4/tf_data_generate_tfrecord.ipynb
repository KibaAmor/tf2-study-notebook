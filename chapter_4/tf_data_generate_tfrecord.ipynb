{
 "cells": [
  {
   "cell_type": "code",
   "execution_count": 2,
   "metadata": {},
   "outputs": [
    {
     "name": "stdout",
     "output_type": "stream",
     "text": [
      "Writing to /root/.config/pip/pip.conf\n",
      "Looking in indexes: https://mirrors.aliyun.com/pypi/simple/\n",
      "Requirement already up-to-date: pip in /usr/local/lib/python3.6/dist-packages (20.2.4)\n",
      "pip 20.2.4 from /usr/local/lib/python3.6/dist-packages/pip (python 3.6)\n",
      "Looking in indexes: https://mirrors.aliyun.com/pypi/simple/\n",
      "Requirement already satisfied: sklearn in /usr/local/lib/python3.6/dist-packages (0.0)\n",
      "Requirement already satisfied: pandas in /usr/local/lib/python3.6/dist-packages (1.1.3)\n",
      "Requirement already satisfied: scikit-learn in /usr/local/lib/python3.6/dist-packages (from sklearn) (0.23.2)\n",
      "Requirement already satisfied: python-dateutil>=2.7.3 in /usr/local/lib/python3.6/dist-packages (from pandas) (2.8.1)\n",
      "Requirement already satisfied: numpy>=1.15.4 in /usr/local/lib/python3.6/dist-packages (from pandas) (1.18.5)\n",
      "Requirement already satisfied: pytz>=2017.2 in /usr/local/lib/python3.6/dist-packages (from pandas) (2020.1)\n",
      "Requirement already satisfied: joblib>=0.11 in /usr/local/lib/python3.6/dist-packages (from scikit-learn->sklearn) (0.17.0)\n",
      "Requirement already satisfied: threadpoolctl>=2.0.0 in /usr/local/lib/python3.6/dist-packages (from scikit-learn->sklearn) (2.1.0)\n",
      "Requirement already satisfied: scipy>=0.19.1 in /usr/local/lib/python3.6/dist-packages (from scikit-learn->sklearn) (1.5.3)\n",
      "Requirement already satisfied: six>=1.5 in /usr/local/lib/python3.6/dist-packages (from python-dateutil>=2.7.3->pandas) (1.15.0)\n"
     ]
    }
   ],
   "source": [
    "!pip config set global.index-url https://mirrors.aliyun.com/pypi/simple/\n",
    "!python -m pip install -U pip\n",
    "!pip -V\n",
    "!pip install sklearn pandas"
   ]
  },
  {
   "cell_type": "code",
   "execution_count": 3,
   "metadata": {},
   "outputs": [
    {
     "name": "stdout",
     "output_type": "stream",
     "text": [
      "2.3.1\n",
      "sys.version_info(major=3, minor=6, micro=9, releaselevel='final', serial=0)\n",
      "matplotlib 3.3.2\n",
      "numpy 1.18.5\n",
      "pandas 1.1.3\n",
      "sklearn 0.23.2\n",
      "tensorflow 2.3.1\n",
      "tensorflow.keras 2.4.0\n"
     ]
    }
   ],
   "source": [
    "import matplotlib as mpl\n",
    "import matplotlib.pyplot as plt\n",
    "%matplotlib inline\n",
    "import numpy as np\n",
    "import sklearn\n",
    "import pandas as pd\n",
    "import os\n",
    "import sys\n",
    "import time\n",
    "import tensorflow as tf\n",
    "\n",
    "from tensorflow import keras\n",
    "\n",
    "print(tf.__version__)\n",
    "print(sys.version_info)\n",
    "for module in mpl, np, pd, sklearn, tf, keras:\n",
    "    print(module.__name__, module.__version__)"
   ]
  },
  {
   "cell_type": "code",
   "execution_count": 9,
   "metadata": {},
   "outputs": [
    {
     "name": "stdout",
     "output_type": "stream",
     "text": [
      "['./generate_csv/train_00.csv',\n",
      " './generate_csv/train_01.csv',\n",
      " './generate_csv/train_02.csv',\n",
      " './generate_csv/train_03.csv',\n",
      " './generate_csv/train_04.csv',\n",
      " './generate_csv/train_05.csv',\n",
      " './generate_csv/train_06.csv',\n",
      " './generate_csv/train_07.csv',\n",
      " './generate_csv/train_08.csv',\n",
      " './generate_csv/train_09.csv',\n",
      " './generate_csv/train_10.csv',\n",
      " './generate_csv/train_11.csv',\n",
      " './generate_csv/train_12.csv',\n",
      " './generate_csv/train_13.csv',\n",
      " './generate_csv/train_14.csv',\n",
      " './generate_csv/train_15.csv',\n",
      " './generate_csv/train_16.csv',\n",
      " './generate_csv/train_17.csv',\n",
      " './generate_csv/train_18.csv',\n",
      " './generate_csv/train_19.csv']\n",
      "['./generate_csv/valid_00.csv',\n",
      " './generate_csv/valid_01.csv',\n",
      " './generate_csv/valid_02.csv',\n",
      " './generate_csv/valid_03.csv',\n",
      " './generate_csv/valid_04.csv',\n",
      " './generate_csv/valid_05.csv',\n",
      " './generate_csv/valid_06.csv',\n",
      " './generate_csv/valid_07.csv',\n",
      " './generate_csv/valid_08.csv',\n",
      " './generate_csv/valid_09.csv']\n",
      "['./generate_csv/test_00.csv',\n",
      " './generate_csv/test_01.csv',\n",
      " './generate_csv/test_02.csv',\n",
      " './generate_csv/test_03.csv',\n",
      " './generate_csv/test_04.csv',\n",
      " './generate_csv/test_05.csv',\n",
      " './generate_csv/test_06.csv',\n",
      " './generate_csv/test_07.csv',\n",
      " './generate_csv/test_08.csv',\n",
      " './generate_csv/test_09.csv']\n"
     ]
    }
   ],
   "source": [
    "source_dir = './generate_csv/'\n",
    "\n",
    "def get_filename_by_prefix(source_dir, prefix_name):\n",
    "    all_files = os.listdir(source_dir)\n",
    "    results = []\n",
    "    for filename in all_files:\n",
    "        if filename.startswith(prefix_name):\n",
    "            results.append(os.path.join(source_dir, filename))            \n",
    "    return results\n",
    "\n",
    "train_filenames = get_filename_by_prefix(source_dir, 'train')\n",
    "valid_filenames = get_filename_by_prefix(source_dir, 'valid')\n",
    "test_filenames = get_filename_by_prefix(source_dir, 'test')\n",
    "\n",
    "from pprint import pprint\n",
    "pprint(train_filenames)\n",
    "pprint(valid_filenames)\n",
    "pprint(test_filenames)"
   ]
  },
  {
   "cell_type": "code",
   "execution_count": 13,
   "metadata": {},
   "outputs": [],
   "source": [
    "def parse_csv_line(line, n_fields=9):\n",
    "    defs = [tf.constant(np.nan)] * n_fields\n",
    "    parsed_fields = tf.io.decode_csv(line, record_defaults=defs)\n",
    "    x = tf.stack(parsed_fields[0:-1])\n",
    "    y = tf.stack(parsed_fields[-1:])\n",
    "    return x, y\n",
    "\n",
    "def csv_reader_dataset(filenames, n_readers=5, \n",
    "                       batch_size=32, n_parse_threads=5,\n",
    "                       shuffle_buffer_size=10000):\n",
    "    dataset = tf.data.Dataset.list_files(filenames)\n",
    "    dataset = dataset.repeat()\n",
    "    dataset = dataset.interleave(\n",
    "        lambda filename: tf.data.TextLineDataset(filename).skip(1),\n",
    "        cycle_length = n_readers\n",
    "    )\n",
    "    dataset.shuffle(shuffle_buffer_size)\n",
    "    dataset = dataset.map(parse_csv_line, \n",
    "                          num_parallel_calls=n_parse_threads)\n",
    "    dataset = dataset.batch(batch_size)\n",
    "    return dataset\n",
    "\n",
    "batch_size = 32\n",
    "train_set = csv_reader_dataset(train_filenames, batch_size=batch_size)\n",
    "valid_set = csv_reader_dataset(valid_filenames, batch_size=batch_size)\n",
    "test_set = csv_reader_dataset(test_filenames, batch_size=batch_size)"
   ]
  },
  {
   "cell_type": "code",
   "execution_count": 20,
   "metadata": {},
   "outputs": [],
   "source": [
    "def serialize_exmaple(x, y):\n",
    "    '''Converts x,y to tf.train.Example and serialize'''\n",
    "    input_features = tf.train.FloatList(value = x)\n",
    "    label = tf.train.FloatList(value = y)\n",
    "    features = tf.train.Features(\n",
    "        feature = {\n",
    "            'input_features': tf.train.Feature(float_list = input_features),\n",
    "            'label': tf.train.Feature(float_list = label)\n",
    "        }\n",
    "    )\n",
    "    example = tf.train.Example(features = features)\n",
    "    return example.SerializeToString()\n",
    "\n",
    "def csv_dataset_to_tfrecords(base_filename, dataset, n_shards, steps_per_shard,\n",
    "                           compression_type = None):\n",
    "    options = tf.io.TFRecordOptions(compression_type=compression_type)\n",
    "    all_filenames = []\n",
    "    for shard_id in range(n_shards):\n",
    "        filename_fullpath = '{}_{:05d}-of-{:05d}'.format(\n",
    "            base_filename, shard_id, n_shards)\n",
    "        with tf.io.TFRecordWriter(filename_fullpath, options) as writer:\n",
    "            for x_batch, y_batch in dataset.take(steps_per_shard):\n",
    "                for x_example, y_exmaple in zip(x_batch, y_batch):\n",
    "                    writer.write(\n",
    "                        serialize_exmaple(x_example, y_exmaple))\n",
    "        all_filenames.append(filename_fullpath)\n",
    "    return all_filenames"
   ]
  },
  {
   "cell_type": "code",
   "execution_count": 21,
   "metadata": {},
   "outputs": [],
   "source": [
    "n_shards = 20\n",
    "train_steps_per_shard = 11610 // batch_size // n_shards\n",
    "valid_steps_per_shard = 3880 // batch_size // n_shards\n",
    "test_steps_per_shard = 5170 // batch_size // n_shards\n",
    "\n",
    "output_dir = 'generate_tfrecords'\n",
    "if not os.path.exists(output_dir):\n",
    "    os.mkdir(output_dir)\n",
    "    \n",
    "train_basename = os.path.join(output_dir, 'train')\n",
    "valid_basename = os.path.join(output_dir, 'valid')\n",
    "test_basename = os.path.join(output_dir, 'test')\n",
    "\n",
    "train_tfrecord_filenames = csv_dataset_to_tfrecords(\n",
    "    train_basename, train_set, n_shards, train_steps_per_shard, None)\n",
    "valid_tfrecord_filenames = csv_dataset_to_tfrecords(\n",
    "    valid_basename, valid_set, n_shards, valid_steps_per_shard, None)\n",
    "test_tfrecord_filenames = csv_dataset_to_tfrecords(\n",
    "    test_basename, test_set, n_shards, test_steps_per_shard, None)"
   ]
  },
  {
   "cell_type": "code",
   "execution_count": 22,
   "metadata": {},
   "outputs": [],
   "source": [
    "n_shards = 20\n",
    "train_steps_per_shard = 11610 // batch_size // n_shards\n",
    "valid_steps_per_shard = 3880 // batch_size // n_shards\n",
    "test_steps_per_shard = 5170 // batch_size // n_shards\n",
    "\n",
    "output_dir = 'generate_tfrecords_zip'\n",
    "if not os.path.exists(output_dir):\n",
    "    os.mkdir(output_dir)\n",
    "    \n",
    "train_basename = os.path.join(output_dir, 'train')\n",
    "valid_basename = os.path.join(output_dir, 'valid')\n",
    "test_basename = os.path.join(output_dir, 'test')\n",
    "\n",
    "train_tfrecord_filenames = csv_dataset_to_tfrecords(\n",
    "    train_basename, train_set, n_shards, train_steps_per_shard, 'GZIP')\n",
    "valid_tfrecord_filenames = csv_dataset_to_tfrecords(\n",
    "    valid_basename, valid_set, n_shards, valid_steps_per_shard, 'GZIP')\n",
    "test_tfrecord_filenames = csv_dataset_to_tfrecords(\n",
    "    test_basename, test_set, n_shards, test_steps_per_shard, 'GZIP')"
   ]
  },
  {
   "cell_type": "code",
   "execution_count": 23,
   "metadata": {},
   "outputs": [
    {
     "name": "stdout",
     "output_type": "stream",
     "text": [
      "['generate_tfrecords_zip/train_00000-of-00020',\n",
      " 'generate_tfrecords_zip/train_00001-of-00020',\n",
      " 'generate_tfrecords_zip/train_00002-of-00020',\n",
      " 'generate_tfrecords_zip/train_00003-of-00020',\n",
      " 'generate_tfrecords_zip/train_00004-of-00020',\n",
      " 'generate_tfrecords_zip/train_00005-of-00020',\n",
      " 'generate_tfrecords_zip/train_00006-of-00020',\n",
      " 'generate_tfrecords_zip/train_00007-of-00020',\n",
      " 'generate_tfrecords_zip/train_00008-of-00020',\n",
      " 'generate_tfrecords_zip/train_00009-of-00020',\n",
      " 'generate_tfrecords_zip/train_00010-of-00020',\n",
      " 'generate_tfrecords_zip/train_00011-of-00020',\n",
      " 'generate_tfrecords_zip/train_00012-of-00020',\n",
      " 'generate_tfrecords_zip/train_00013-of-00020',\n",
      " 'generate_tfrecords_zip/train_00014-of-00020',\n",
      " 'generate_tfrecords_zip/train_00015-of-00020',\n",
      " 'generate_tfrecords_zip/train_00016-of-00020',\n",
      " 'generate_tfrecords_zip/train_00017-of-00020',\n",
      " 'generate_tfrecords_zip/train_00018-of-00020',\n",
      " 'generate_tfrecords_zip/train_00019-of-00020']\n",
      "['generate_tfrecords_zip/valid_00000-of-00020',\n",
      " 'generate_tfrecords_zip/valid_00001-of-00020',\n",
      " 'generate_tfrecords_zip/valid_00002-of-00020',\n",
      " 'generate_tfrecords_zip/valid_00003-of-00020',\n",
      " 'generate_tfrecords_zip/valid_00004-of-00020',\n",
      " 'generate_tfrecords_zip/valid_00005-of-00020',\n",
      " 'generate_tfrecords_zip/valid_00006-of-00020',\n",
      " 'generate_tfrecords_zip/valid_00007-of-00020',\n",
      " 'generate_tfrecords_zip/valid_00008-of-00020',\n",
      " 'generate_tfrecords_zip/valid_00009-of-00020',\n",
      " 'generate_tfrecords_zip/valid_00010-of-00020',\n",
      " 'generate_tfrecords_zip/valid_00011-of-00020',\n",
      " 'generate_tfrecords_zip/valid_00012-of-00020',\n",
      " 'generate_tfrecords_zip/valid_00013-of-00020',\n",
      " 'generate_tfrecords_zip/valid_00014-of-00020',\n",
      " 'generate_tfrecords_zip/valid_00015-of-00020',\n",
      " 'generate_tfrecords_zip/valid_00016-of-00020',\n",
      " 'generate_tfrecords_zip/valid_00017-of-00020',\n",
      " 'generate_tfrecords_zip/valid_00018-of-00020',\n",
      " 'generate_tfrecords_zip/valid_00019-of-00020']\n",
      "['generate_tfrecords_zip/test_00000-of-00020',\n",
      " 'generate_tfrecords_zip/test_00001-of-00020',\n",
      " 'generate_tfrecords_zip/test_00002-of-00020',\n",
      " 'generate_tfrecords_zip/test_00003-of-00020',\n",
      " 'generate_tfrecords_zip/test_00004-of-00020',\n",
      " 'generate_tfrecords_zip/test_00005-of-00020',\n",
      " 'generate_tfrecords_zip/test_00006-of-00020',\n",
      " 'generate_tfrecords_zip/test_00007-of-00020',\n",
      " 'generate_tfrecords_zip/test_00008-of-00020',\n",
      " 'generate_tfrecords_zip/test_00009-of-00020',\n",
      " 'generate_tfrecords_zip/test_00010-of-00020',\n",
      " 'generate_tfrecords_zip/test_00011-of-00020',\n",
      " 'generate_tfrecords_zip/test_00012-of-00020',\n",
      " 'generate_tfrecords_zip/test_00013-of-00020',\n",
      " 'generate_tfrecords_zip/test_00014-of-00020',\n",
      " 'generate_tfrecords_zip/test_00015-of-00020',\n",
      " 'generate_tfrecords_zip/test_00016-of-00020',\n",
      " 'generate_tfrecords_zip/test_00017-of-00020',\n",
      " 'generate_tfrecords_zip/test_00018-of-00020',\n",
      " 'generate_tfrecords_zip/test_00019-of-00020']\n"
     ]
    }
   ],
   "source": [
    "pprint(train_tfrecord_filenames)\n",
    "pprint(valid_tfrecord_filenames)\n",
    "pprint(test_tfrecord_filenames)"
   ]
  },
  {
   "cell_type": "code",
   "execution_count": 26,
   "metadata": {},
   "outputs": [
    {
     "name": "stdout",
     "output_type": "stream",
     "text": [
      "tf.Tensor(\n",
      "[[ 0.15782312  0.4323619   0.3379948  -0.01588031 -0.37338907 -0.05305246\n",
      "   0.80061346 -1.2359096 ]\n",
      " [ 0.4240821   0.91296333 -0.04437482 -0.15297213 -0.24727628 -0.10539167\n",
      "   0.86126745 -1.335779  ]\n",
      " [-0.32652634  0.4323619  -0.09345459 -0.08402992  0.8460036  -0.02663165\n",
      "  -0.56176794  0.1422876 ]], shape=(3, 8), dtype=float32) tf.Tensor(\n",
      "[[3.169]\n",
      " [3.955]\n",
      " [2.431]], shape=(3, 1), dtype=float32)\n",
      "tf.Tensor(\n",
      "[[-1.1199750e+00 -1.3298433e+00  1.4190045e-01  4.6581370e-01\n",
      "  -1.0301778e-01 -1.0744184e-01 -7.9505241e-01  1.5304717e+00]\n",
      " [ 2.5150437e+00  1.0731637e+00  5.5744010e-01 -1.7273512e-01\n",
      "  -6.1291260e-01 -1.9091565e-02 -5.7109928e-01 -2.7490310e-02]\n",
      " [ 4.9710345e-02 -8.4924191e-01 -6.2146995e-02  1.7878747e-01\n",
      "  -8.0253541e-01  5.0660671e-04  6.4664572e-01 -1.1060793e+00]], shape=(3, 8), dtype=float32) tf.Tensor(\n",
      "[[0.66   ]\n",
      " [5.00001]\n",
      " [2.286  ]], shape=(3, 1), dtype=float32)\n"
     ]
    }
   ],
   "source": [
    "expected_features = {\n",
    "    'input_features': tf.io.FixedLenFeature([8], dtype=tf.float32),\n",
    "    'label': tf.io.FixedLenFeature([1], dtype=tf.float32)\n",
    "}\n",
    "\n",
    "def parse_example(serialized_example):\n",
    "    example = tf.io.parse_single_example(serialized_example, expected_features)\n",
    "    return example['input_features'], example['label']\n",
    "\n",
    "def tfrecord_reader_dataset(filenames, n_readers=5, \n",
    "                       batch_size=32, n_parse_threads=5,\n",
    "                       shuffle_buffer_size=10000):\n",
    "    \n",
    "    dataset = tf.data.Dataset.list_files(filenames)\n",
    "    dataset = dataset.repeat()\n",
    "    dataset = dataset.interleave(\n",
    "        lambda filename: tf.data.TFRecordDataset(\n",
    "            filename, compression_type='GZIP'),\n",
    "        cycle_length = n_readers\n",
    "    )\n",
    "    dataset.shuffle(shuffle_buffer_size)\n",
    "    dataset = dataset.map(parse_example, \n",
    "                          num_parallel_calls=n_parse_threads)\n",
    "    dataset = dataset.batch(batch_size)\n",
    "    return dataset\n",
    "\n",
    "tfrecords_train = tfrecord_reader_dataset(train_tfrecord_filenames, batch_size=3)\n",
    "for x_batch, y_batch in tfrecords_train.take(2):\n",
    "    print(x_batch, y_batch)"
   ]
  },
  {
   "cell_type": "code",
   "execution_count": 27,
   "metadata": {},
   "outputs": [],
   "source": [
    "batch_size = 32\n",
    "train_set = tfrecord_reader_dataset(train_tfrecord_filenames, batch_size=batch_size)\n",
    "valid_set = tfrecord_reader_dataset(train_tfrecord_filenames, batch_size=batch_size)\n",
    "test_set = tfrecord_reader_dataset(train_tfrecord_filenames, batch_size=batch_size)"
   ]
  },
  {
   "cell_type": "code",
   "execution_count": 28,
   "metadata": {},
   "outputs": [],
   "source": [
    "model = keras.models.Sequential([\n",
    "    keras.layers.Dense(30, activation='relu',\n",
    "                      input_shape=[8]),\n",
    "    keras.layers.Dense(1),\n",
    "])\n",
    "model.compile(loss='mean_squared_error', optimizer='sgd')\n",
    "callbacks = [\n",
    "    keras.callbacks.EarlyStopping(patience=5, min_delta=1e-2)\n",
    "]"
   ]
  },
  {
   "cell_type": "code",
   "execution_count": 29,
   "metadata": {},
   "outputs": [
    {
     "name": "stdout",
     "output_type": "stream",
     "text": [
      "Epoch 1/100\n",
      "348/348 [==============================] - 0s 1ms/step - loss: 0.8497 - val_loss: 0.7493\n",
      "Epoch 2/100\n",
      "348/348 [==============================] - 0s 985us/step - loss: 0.5826 - val_loss: 0.4249\n",
      "Epoch 3/100\n",
      "348/348 [==============================] - 0s 961us/step - loss: 0.4312 - val_loss: 0.4150\n",
      "Epoch 4/100\n",
      "348/348 [==============================] - 0s 960us/step - loss: 0.4065 - val_loss: 0.3959\n",
      "Epoch 5/100\n",
      "348/348 [==============================] - 0s 972us/step - loss: 0.3965 - val_loss: 0.3843\n",
      "Epoch 6/100\n",
      "348/348 [==============================] - 0s 958us/step - loss: 0.3833 - val_loss: 0.3846\n",
      "Epoch 7/100\n",
      "348/348 [==============================] - 0s 994us/step - loss: 0.3779 - val_loss: 0.3728\n",
      "Epoch 8/100\n",
      "348/348 [==============================] - 0s 958us/step - loss: 0.3521 - val_loss: 0.3684\n",
      "Epoch 9/100\n",
      "348/348 [==============================] - 0s 930us/step - loss: 0.3566 - val_loss: 0.3486\n",
      "Epoch 10/100\n",
      "348/348 [==============================] - 0s 960us/step - loss: 0.3397 - val_loss: 0.3561\n",
      "Epoch 11/100\n",
      "348/348 [==============================] - 0s 941us/step - loss: 0.3440 - val_loss: 0.3403\n",
      "Epoch 12/100\n",
      "348/348 [==============================] - 0s 955us/step - loss: 0.3321 - val_loss: 0.3380\n",
      "Epoch 13/100\n",
      "348/348 [==============================] - 0s 968us/step - loss: 0.3392 - val_loss: 0.3214\n",
      "Epoch 14/100\n",
      "348/348 [==============================] - 0s 996us/step - loss: 0.3204 - val_loss: 0.3200\n",
      "Epoch 15/100\n",
      "348/348 [==============================] - 0s 927us/step - loss: 0.3298 - val_loss: 0.3349\n",
      "Epoch 16/100\n",
      "348/348 [==============================] - 0s 941us/step - loss: 0.3121 - val_loss: 0.3097\n",
      "Epoch 17/100\n",
      "348/348 [==============================] - 0s 957us/step - loss: 0.3153 - val_loss: 0.3151\n",
      "Epoch 18/100\n",
      "348/348 [==============================] - 0s 947us/step - loss: 0.3239 - val_loss: 0.3126\n",
      "Epoch 19/100\n",
      "348/348 [==============================] - 0s 951us/step - loss: 0.3042 - val_loss: 0.2977\n",
      "Epoch 20/100\n",
      "348/348 [==============================] - 0s 958us/step - loss: 0.3155 - val_loss: 0.3129\n",
      "Epoch 21/100\n",
      "348/348 [==============================] - 0s 936us/step - loss: 0.3108 - val_loss: 0.2953\n",
      "Epoch 22/100\n",
      "348/348 [==============================] - 0s 951us/step - loss: 0.3050 - val_loss: 0.3050\n",
      "Epoch 23/100\n",
      "348/348 [==============================] - 0s 911us/step - loss: 0.3021 - val_loss: 0.2984\n",
      "Epoch 24/100\n",
      "348/348 [==============================] - 0s 941us/step - loss: 0.2985 - val_loss: 0.3102\n"
     ]
    }
   ],
   "source": [
    "history = model.fit(train_set,\n",
    "                   validation_data=valid_set,\n",
    "                   steps_per_epoch=11160 // batch_size,\n",
    "                    validation_steps =3780 // batch_size,\n",
    "                   epochs=100,\n",
    "                   callbacks=callbacks)"
   ]
  },
  {
   "cell_type": "code",
   "execution_count": 30,
   "metadata": {},
   "outputs": [
    {
     "data": {
      "image/png": "[encoded data removed]",
      "text/plain": [
       "<Figure size 576x360 with 1 Axes>"
      ]
     },
     "metadata": {
      "needs_background": "light"
     },
     "output_type": "display_data"
    }
   ],
   "source": [
    "def plot_learning_curves(history):\n",
    "    pd.DataFrame(history.history).plot(figsize=(8,5))\n",
    "    plt.grid(True)\n",
    "    plt.gca().set_ylim(0, 1)\n",
    "    plt.show()\n",
    "    \n",
    "plot_learning_curves(history)"
   ]
  },
  {
   "cell_type": "code",
   "execution_count": 31,
   "metadata": {},
   "outputs": [
    {
     "name": "stdout",
     "output_type": "stream",
     "text": [
      "161/161 [==============================] - 0s 687us/step - loss: 0.2942\n"
     ]
    },
    {
     "data": {
      "text/plain": [
       "0.29422929883003235"
      ]
     },
     "execution_count": 31,
     "metadata": {},
     "output_type": "execute_result"
    }
   ],
   "source": [
    "model.evaluate(test_set, steps = 5160 // batch_size)"
   ]
  },
  {
   "cell_type": "code",
   "execution_count": null,
   "metadata": {},
   "outputs": [],
   "source": []
  }
 ],
 "metadata": {
  "kernelspec": {
   "display_name": "Python 3",
   "language": "python",
   "name": "python3"
  },
  "language_info": {
   "codemirror_mode": {
    "name": "ipython",
    "version": 3
   },
   "file_extension": ".py",
   "mimetype": "text/x-python",
   "name": "python",
   "nbconvert_exporter": "python",
   "pygments_lexer": "ipython3",
   "version": "3.6.9"
  }
 },
 "nbformat": 4,
 "nbformat_minor": 2
}
